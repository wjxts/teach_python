{
 "cells": [
  {
   "cell_type": "code",
   "execution_count": 3,
   "metadata": {},
   "outputs": [],
   "source": [
    "import pandas as pd\n",
    "import numpy as np \n",
    "import matplotlib.pyplot as plt"
   ]
  },
  {
   "cell_type": "code",
   "execution_count": 23,
   "metadata": {},
   "outputs": [],
   "source": [
    "df = pd.DataFrame(np.random.randn(5, 2), columns=list('AB'))"
   ]
  },
  {
   "cell_type": "code",
   "execution_count": 22,
   "metadata": {},
   "outputs": [
    {
     "data": {
      "text/plain": [
       "0.9252454200246273"
      ]
     },
     "execution_count": 22,
     "metadata": {},
     "output_type": "execute_result"
    }
   ],
   "source": [
    "np.random.rand()"
   ]
  },
  {
   "cell_type": "code",
   "execution_count": 24,
   "metadata": {},
   "outputs": [
    {
     "name": "stdout",
     "output_type": "stream",
     "text": [
      "<bound method NDFrame.head of           A         B\n",
      "0 -0.657654 -0.782756\n",
      "1 -0.284310  0.302354\n",
      "2  0.466398 -0.845904\n",
      "3 -0.146840  1.421089\n",
      "4 -1.180569 -1.276699>\n",
      "<bound method NDFrame.head of          A         B\n",
      "0      NaN -0.782756\n",
      "1 -0.28431  0.302354\n",
      "2      NaN -0.845904\n",
      "3      NaN       NaN\n",
      "4      NaN -1.276699>\n"
     ]
    }
   ],
   "source": [
    "print(df.head)\n",
    "for i in range(len(df)):\n",
    "    for j in range(len(df.columns)):\n",
    "        if np.random.rand()>0.5:\n",
    "            df.iloc[i,j] = None\n",
    "print(df.head)"
   ]
  },
  {
   "cell_type": "code",
   "execution_count": 26,
   "metadata": {},
   "outputs": [
    {
     "data": {
      "text/plain": [
       "0     True\n",
       "1    False\n",
       "2     True\n",
       "3     True\n",
       "4     True\n",
       "Name: A, dtype: bool"
      ]
     },
     "execution_count": 26,
     "metadata": {},
     "output_type": "execute_result"
    }
   ],
   "source": [
    "# 判断是否有缺失值\n",
    "df['A'].isna()"
   ]
  },
  {
   "cell_type": "code",
   "execution_count": 27,
   "metadata": {},
   "outputs": [
    {
     "name": "stdout",
     "output_type": "stream",
     "text": [
      "    A         B\n",
      "0 NaN -0.782756\n",
      "2 NaN -0.845904\n"
     ]
    }
   ],
   "source": [
    "# 取出B小于0且大于-1的列\n",
    "new_df1 = df[(df['B']<0) & (df['B']>-1)]\n",
    "print(new_df1)"
   ]
  },
  {
   "cell_type": "code",
   "execution_count": 28,
   "metadata": {},
   "outputs": [
    {
     "name": "stdout",
     "output_type": "stream",
     "text": [
      "         A         B\n",
      "1 -0.28431  0.302354\n",
      "4      NaN -1.276699\n"
     ]
    }
   ],
   "source": [
    "# 取出B大于0或小于-1的列\n",
    "new_df2 = df[(df['B']>0) | (df['B']<-1)]\n",
    "print(new_df2)"
   ]
  },
  {
   "cell_type": "code",
   "execution_count": 31,
   "metadata": {},
   "outputs": [
    {
     "name": "stdout",
     "output_type": "stream",
     "text": [
      "         A         B\n",
      "1 -0.28431  0.302354\n",
      "0      NaN -0.782756\n",
      "2      NaN -0.845904\n",
      "4      NaN -1.276699\n",
      "3      NaN       NaN\n",
      "         A         B\n",
      "4      NaN -1.276699\n",
      "2      NaN -0.845904\n",
      "0      NaN -0.782756\n",
      "1 -0.28431  0.302354\n",
      "3      NaN       NaN\n"
     ]
    }
   ],
   "source": [
    "# 对B列进行排序\n",
    "sorted_df = df.sort_values(by='B', ascending=False)\n",
    "print(sorted_df)\n",
    "sorted_df = df.sort_values(by='B', ascending=True)\n",
    "print(sorted_df)"
   ]
  },
  {
   "cell_type": "code",
   "execution_count": 32,
   "metadata": {},
   "outputs": [
    {
     "name": "stdout",
     "output_type": "stream",
     "text": [
      "0    0.217244\n",
      "1    1.302354\n",
      "2    0.154096\n",
      "3         NaN\n",
      "4   -0.276699\n",
      "Name: B, dtype: float64\n"
     ]
    }
   ],
   "source": [
    "# 对B中的元素加1\n",
    "new_df3 = df['B'].apply(lambda x: x+1)\n",
    "print(new_df3)"
   ]
  },
  {
   "cell_type": "code",
   "execution_count": 33,
   "metadata": {},
   "outputs": [
    {
     "name": "stdout",
     "output_type": "stream",
     "text": [
      "         A         B         C\n",
      "0      NaN -0.782756       NaN\n",
      "1 -0.28431  0.302354  0.018044\n",
      "2      NaN -0.845904       NaN\n",
      "3      NaN       NaN       NaN\n",
      "4      NaN -1.276699       NaN\n"
     ]
    }
   ],
   "source": [
    "# 创建新列\n",
    "df['C'] = df['A'] + df['B']\n",
    "print(df)"
   ]
  },
  {
   "cell_type": "code",
   "execution_count": 36,
   "metadata": {},
   "outputs": [
    {
     "name": "stdout",
     "output_type": "stream",
     "text": [
      "-2.603004223343769 -0.6507510558359423 0.6722423429099915\n"
     ]
    }
   ],
   "source": [
    "# 求统计量\n",
    "print(df['B'].sum(), df['B'].mean(), df['B'].std()) #自动进行了nan的排除"
   ]
  },
  {
   "cell_type": "code",
   "execution_count": 37,
   "metadata": {},
   "outputs": [
    {
     "name": "stdout",
     "output_type": "stream",
     "text": [
      "         A         B         C        D\n",
      "0      NaN -0.782756       NaN  0.00000\n",
      "1 -0.28431  0.302354  0.018044 -0.28431\n",
      "2      NaN -0.845904       NaN  0.00000\n",
      "3      NaN       NaN       NaN  0.00000\n",
      "4      NaN -1.276699       NaN  0.00000\n"
     ]
    }
   ],
   "source": [
    "# 将A列中的nan替换为0\n",
    "df['D'] = df['A']\n",
    "df['D'][df['D'].isna()] = 0 \n",
    "print(df)"
   ]
  }
 ],
 "metadata": {
  "kernelspec": {
   "display_name": "Python 3.8.16 ('py38')",
   "language": "python",
   "name": "python3"
  },
  "language_info": {
   "codemirror_mode": {
    "name": "ipython",
    "version": 3
   },
   "file_extension": ".py",
   "mimetype": "text/x-python",
   "name": "python",
   "nbconvert_exporter": "python",
   "pygments_lexer": "ipython3",
   "version": "3.8.16"
  },
  "orig_nbformat": 4,
  "vscode": {
   "interpreter": {
    "hash": "41a51596cdcea7ef61dd9fdf574aadf740d4bda675dfbd28f2050d44c7bf1e85"
   }
  }
 },
 "nbformat": 4,
 "nbformat_minor": 2
}
