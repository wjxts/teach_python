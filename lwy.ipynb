{
 "cells": [
  {
   "cell_type": "code",
   "execution_count": 1,
   "metadata": {},
   "outputs": [
    {
     "name": "stdout",
     "output_type": "stream",
     "text": [
      "3\n"
     ]
    }
   ],
   "source": [
    "a = 1\n",
    "b = 2\n",
    "print(a + b)"
   ]
  },
  {
   "cell_type": "code",
   "execution_count": 5,
   "metadata": {},
   "outputs": [
    {
     "name": "stdout",
     "output_type": "stream",
     "text": [
      "Addition: 98888900000000004\n",
      "Subtraction: 98888899999999994\n",
      "Multiplication: 494444499999999995\n",
      "Division: 1.977778e+16\n"
     ]
    }
   ],
   "source": [
    "def add(a, b):\n",
    "    return a + b\n",
    "\n",
    "def subtract(a, b):\n",
    "    return a - b\n",
    "\n",
    "def multiply(a, b):\n",
    "    return a * b\n",
    "\n",
    "def divide(a, b):\n",
    "    if b != 0:\n",
    "        return a / b\n",
    "    else:\n",
    "        print(\"Error: Division by zero is not allowed.\")\n",
    "\n",
    "# Example usage\n",
    "a = 98888899999999999\n",
    "b = 5\n",
    "\n",
    "print(\"Addition:\", add(a, b))\n",
    "print(\"Subtraction:\", subtract(a, b))\n",
    "print(\"Multiplication:\", multiply(a, b))\n",
    "print(\"Division:\", divide(a, b))\n"
   ]
  },
  {
   "cell_type": "code",
   "execution_count": null,
   "metadata": {},
   "outputs": [],
   "source": [
    "import random\n",
    "\n",
    "def guess_number():\n",
    "    secret_number = random.randint(1, 100)\n",
    "    attempts = 0\n",
    "\n",
    "    while True:\n",
    "        guess = int(input(\"Guess a number between 1 and 100: \"))\n",
    "        attempts += 1\n",
    "\n",
    "        if guess < secret_number:\n",
    "            print(\"Too low!\")\n",
    "        elif guess > secret_number:\n",
    "            print(\"Too high!\")\n",
    "        else:\n",
    "            print(f\"Congratulations! You guessed the number in {attempts} attempts.\")\n",
    "            break\n",
    "\n",
    "guess_number()\n"
   ]
  },
  {
   "cell_type": "code",
   "execution_count": 6,
   "metadata": {},
   "outputs": [
    {
     "data": {
      "image/png": "[encoded data removed]",
      "text/plain": [
       "<Figure size 640x480 with 1 Axes>"
      ]
     },
     "metadata": {},
     "output_type": "display_data"
    }
   ],
   "source": [
    "import matplotlib.pyplot as plt\n",
    "\n",
    "def plot_chessboard():\n",
    "    # Create a 8x8 chessboard grid\n",
    "    chessboard = [[(i + j) % 2 for i in range(8)] for j in range(8)]\n",
    "\n",
    "    # Plot the chessboard\n",
    "    plt.imshow(chessboard, cmap='binary')\n",
    "    plt.xticks([])\n",
    "    plt.yticks([])\n",
    "    plt.show()\n",
    "\n",
    "# Call the function to plot the chessboard\n",
    "plot_chessboard()\n"
   ]
  },
  {
   "cell_type": "code",
   "execution_count": 7,
   "metadata": {},
   "outputs": [
    {
     "data": {
      "image/png": "[encoded data removed]",
      "text/plain": [
       "<Figure size 640x480 with 1 Axes>"
      ]
     },
     "metadata": {},
     "output_type": "display_data"
    }
   ],
   "source": [
    "import matplotlib.pyplot as plt\n",
    "\n",
    "# Create a figure and axis\n",
    "fig, ax = plt.subplots()\n",
    "\n",
    "# Plot the head\n",
    "head = plt.Circle((0.5, 0.7), 0.2, color='yellow')\n",
    "ax.add_patch(head)\n",
    "\n",
    "# Plot the body\n",
    "body = plt.Rectangle((0.4, 0.3), 0.2, 0.4, color='blue')\n",
    "ax.add_patch(body)\n",
    "\n",
    "# Plot the arms\n",
    "left_arm = plt.Rectangle((0.2, 0.3), 0.2, 0.1, color='blue')\n",
    "ax.add_patch(left_arm)\n",
    "right_arm = plt.Rectangle((0.6, 0.3), 0.2, 0.1, color='blue')\n",
    "ax.add_patch(right_arm)\n",
    "\n",
    "# Plot the legs\n",
    "left_leg = plt.Rectangle((0.4, 0.1), 0.1, 0.2, color='blue')\n",
    "ax.add_patch(left_leg)\n",
    "right_leg = plt.Rectangle((0.5, 0.1), 0.1, 0.2, color='blue')\n",
    "ax.add_patch(right_leg)\n",
    "\n",
    "# Set the aspect ratio and limits\n",
    "ax.set_aspect('equal')\n",
    "ax.set_xlim(0, 1)\n",
    "ax.set_ylim(0, 1)\n",
    "\n",
    "# Remove the axis ticks and labels\n",
    "ax.set_xticks([])\n",
    "ax.set_yticks([])\n",
    "\n",
    "# Show the plot\n",
    "plt.show()\n"
   ]
  },
  {
   "cell_type": "code",
   "execution_count": 8,
   "metadata": {},
   "outputs": [
    {
     "data": {
      "image/png": "[encoded data removed]",
      "text/plain": [
       "<Figure size 640x480 with 1 Axes>"
      ]
     },
     "metadata": {},
     "output_type": "display_data"
    }
   ],
   "source": [
    "import matplotlib.pyplot as plt\n",
    "\n",
    "# Create a figure and axis\n",
    "fig, ax = plt.subplots()\n",
    "\n",
    "# Plot the head\n",
    "head = plt.Circle((0.5, 0.7), 0.2, color='yellow')\n",
    "ax.add_patch(head)\n",
    "\n",
    "# Plot the body\n",
    "body = plt.Rectangle((0.4, 0.3), 0.2, 0.4, color='blue')\n",
    "ax.add_patch(body)\n",
    "\n",
    "# Plot the ears\n",
    "left_ear = plt.Polygon([[0.3, 0.9], [0.4, 0.8], [0.45, 0.9]], color='brown')\n",
    "ax.add_patch(left_ear)\n",
    "right_ear = plt.Polygon([[0.55, 0.9], [0.6, 0.8], [0.7, 0.9]], color='brown')\n",
    "ax.add_patch(right_ear)\n",
    "\n",
    "# Plot the eyes\n",
    "left_eye = plt.Circle((0.45, 0.75), 0.05, color='black')\n",
    "ax.add_patch(left_eye)\n",
    "right_eye = plt.Circle((0.55, 0.75), 0.05, color='black')\n",
    "ax.add_patch(right_eye)\n",
    "\n",
    "# Plot the nose\n",
    "nose = plt.Polygon([[0.5, 0.65], [0.48, 0.6], [0.52, 0.6]], color='black')\n",
    "ax.add_patch(nose)\n",
    "\n",
    "# Plot the mouth\n",
    "mouth = plt.Polygon([[0.48, 0.55], [0.52, 0.55], [0.5, 0.5]], color='black')\n",
    "ax.add_patch(mouth)\n",
    "\n",
    "# Set the aspect ratio and limits\n",
    "ax.set_aspect('equal')\n",
    "ax.set_xlim(0, 1)\n",
    "ax.set_ylim(0, 1)\n",
    "\n",
    "# Remove the axis ticks and labels\n",
    "ax.set_xticks([])\n",
    "ax.set_yticks([])\n",
    "\n",
    "# Show the plot\n",
    "plt.show()\n"
   ]
  }
 ],
 "metadata": {
  "kernelspec": {
   "display_name": "py38",
   "language": "python",
   "name": "python3"
  },
  "language_info": {
   "codemirror_mode": {
    "name": "ipython",
    "version": 3
   },
   "file_extension": ".py",
   "mimetype": "text/x-python",
   "name": "python",
   "nbconvert_exporter": "python",
   "pygments_lexer": "ipython3",
   "version": "3.8.16"
  }
 },
 "nbformat": 4,
 "nbformat_minor": 2
}
