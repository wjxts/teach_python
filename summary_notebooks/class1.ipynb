{
 "cells": [
  {
   "cell_type": "markdown",
   "metadata": {},
   "source": [
    "### 第一节课\n",
    "\n",
    "数据类型和运算(int, float, bool, str; + ,-, *, /, **, //, %, &, |, ^)\n",
    "\n",
    "python 解释性语言\n",
    "\n",
    "动态变量类型 \n",
    "\n",
    "python一切皆对象\n",
    "\n",
    "变量名\n",
    "a, A, _, 开头不能是数字 \n"
   ]
  },
  {
   "cell_type": "code",
   "execution_count": 4,
   "metadata": {},
   "outputs": [
    {
     "name": "stdout",
     "output_type": "stream",
     "text": [
      "1.0\n",
      "1\n",
      "<class 'float'>\n",
      "<class 'int'>\n",
      "123 123\n",
      "52\n"
     ]
    }
   ],
   "source": [
    "# 基本数据类型\n",
    "a = 1 # int\n",
    "b = 1.0 # float\n",
    "c = True # bool\n",
    "s = \"ysz\" # str\n",
    "\n",
    "# 数据类型之间的转换\n",
    "print(float(a))\n",
    "print(int(b))\n",
    "print(type(4/2))\n",
    "print(type(4//2))\n",
    "\n",
    "s1 = \"123\" \n",
    "a1 = int(s1)\n",
    "\n",
    "s2 = str(a1)\n",
    "print(a1, s2)\n",
    "# 查看占用内存大小\n",
    "import sys\n",
    "print(sys.getsizeof(s))"
   ]
  },
  {
   "cell_type": "markdown",
   "metadata": {},
   "source": [
    "# 基本运算\n",
    "float/int: +, -, *, /, **\n",
    "科学计数法 1.5e2\n",
    "int: //, %  a = (a//b)*b+a%b\n",
    "int: 转成二进制按位操作 &, |, ^, >>, << (~尽量不用)\n",
    "bool: and, or, not\n",
    "比大小: ==, !=, >, <, >=, <=, is, is not"
   ]
  },
  {
   "cell_type": "code",
   "execution_count": 11,
   "metadata": {},
   "outputs": [
    {
     "data": {
      "text/plain": [
       "(2, 10, 8, 2, 40)"
      ]
     },
     "execution_count": 11,
     "metadata": {},
     "output_type": "execute_result"
    }
   ],
   "source": [
    "10 & 2, 10 | 2, 10 ^ 2, 10>>2, 10<<2, "
   ]
  },
  {
   "cell_type": "code",
   "execution_count": 15,
   "metadata": {},
   "outputs": [
    {
     "name": "stderr",
     "output_type": "stream",
     "text": [
      "<>:1: SyntaxWarning: \"is\" with a literal. Did you mean \"==\"?\n",
      "<>:1: SyntaxWarning: \"is\" with a literal. Did you mean \"==\"?\n",
      "/var/folders/73/rc2kprmj27l3t133qmqc0x5c0000gn/T/ipykernel_55533/3841686238.py:1: SyntaxWarning: \"is\" with a literal. Did you mean \"==\"?\n",
      "  1.0 == 1, 1.0 is 1\n"
     ]
    },
    {
     "data": {
      "text/plain": [
       "(True, False)"
      ]
     },
     "execution_count": 15,
     "metadata": {},
     "output_type": "execute_result"
    }
   ],
   "source": [
    "1.0 == 1, 1.0 is 1"
   ]
  },
  {
   "cell_type": "markdown",
   "metadata": {},
   "source": [
    "## 字符串操作\n",
    "string +, index & slice (start from 0) [3]; [-3]; [:3]; [:-1]; [:]; s[m:n] include m, not include n; s[m:n:-1] \n",
    "\n",
    "查找\n",
    "find s1.find(s2), \"whatever\".find('ever') return 4;  \"whatever\".find('wever') return -1\n",
    "\n",
    "格式化\n",
    "format,  f\"a = {a}, b = {b}\", \"a = {}, b = {}\".format(a, b), \"a = {a}, b = {b}\".format(a=a, b=b)\n",
    "\n",
    "c = [\"monday\", \"tuesday\", \"holiday\"], \" \".join(c)"
   ]
  },
  {
   "cell_type": "code",
   "execution_count": 21,
   "metadata": {},
   "outputs": [
    {
     "name": "stdout",
     "output_type": "stream",
     "text": [
      "helloworld\n",
      "h l o l\n",
      "ll\n",
      "3\n"
     ]
    }
   ],
   "source": [
    "s1 = \"hello\"\n",
    "s2 = \"world\"\n",
    "print(s1 + s2)\n",
    "print(s1[0], s1[3], s1[-1], s1[-3])\n",
    "print(s1[3:1:-1])\n",
    "print(len(s))"
   ]
  },
  {
   "cell_type": "code",
   "execution_count": 23,
   "metadata": {},
   "outputs": [
    {
     "data": {
      "text/plain": [
       "(4, -1)"
      ]
     },
     "execution_count": 23,
     "metadata": {},
     "output_type": "execute_result"
    }
   ],
   "source": [
    "s1 = \"whatever\"\n",
    "s1.find(\"ever\"), s1.find('bever')"
   ]
  },
  {
   "cell_type": "code",
   "execution_count": 31,
   "metadata": {},
   "outputs": [
    {
     "data": {
      "text/plain": [
       "'year = 2024, month = 1, day = 07'"
      ]
     },
     "metadata": {},
     "output_type": "display_data"
    },
    {
     "name": "stdout",
     "output_type": "stream",
     "text": [
      "  3.14\n",
      "3.142e+00\n"
     ]
    }
   ],
   "source": [
    "year = 2024\n",
    "month = 1\n",
    "day = 7\n",
    "display(f\"year = {year}, month = {month}, day = {day:02d}\")\n",
    "f\"{year}-{month:02d}-{day:02d}\"\n",
    "import math \n",
    "print(f\"{math.pi:6.2f}\")\n",
    "print(f\"{math.pi:.3e}\")"
   ]
  },
  {
   "cell_type": "code",
   "execution_count": 33,
   "metadata": {},
   "outputs": [
    {
     "name": "stdout",
     "output_type": "stream",
     "text": [
      "a b c\n",
      "a,b,c\n"
     ]
    }
   ],
   "source": [
    "l = ['a', 'b', 'c']\n",
    "print(\" \".join(l))\n",
    "print(\",\".join(l))"
   ]
  },
  {
   "cell_type": "code",
   "execution_count": 34,
   "metadata": {},
   "outputs": [
    {
     "data": {
      "text/plain": [
       "('ABC', 'abc', False, False)"
      ]
     },
     "execution_count": 34,
     "metadata": {},
     "output_type": "execute_result"
    }
   ],
   "source": [
    "s = \"aBc\"\n",
    "s.upper(), s.lower(),  s.isupper(),  s.islower()"
   ]
  },
  {
   "cell_type": "code",
   "execution_count": 36,
   "metadata": {},
   "outputs": [
    {
     "name": "stdout",
     "output_type": "stream",
     "text": [
      "monday\n"
     ]
    }
   ],
   "source": [
    "# EX1\n",
    "s1 = \"monday\";  \n",
    "# s1 = s1[0].upper() + s1[1:]\n",
    "# s1[0] = s1[0].upper()\n",
    "print(s1)"
   ]
  },
  {
   "cell_type": "code",
   "execution_count": null,
   "metadata": {},
   "outputs": [],
   "source": [
    "#EX2 \n",
    "s1 = 'mon'\n",
    "s2 = 'key'\n"
   ]
  },
  {
   "cell_type": "markdown",
   "metadata": {},
   "source": [
    "✅(不到1h)"
   ]
  },
  {
   "cell_type": "code",
   "execution_count": null,
   "metadata": {},
   "outputs": [],
   "source": []
  }
 ],
 "metadata": {
  "kernelspec": {
   "display_name": "py38",
   "language": "python",
   "name": "python3"
  },
  "language_info": {
   "codemirror_mode": {
    "name": "ipython",
    "version": 3
   },
   "file_extension": ".py",
   "mimetype": "text/x-python",
   "name": "python",
   "nbconvert_exporter": "python",
   "pygments_lexer": "ipython3",
   "version": "3.8.16"
  }
 },
 "nbformat": 4,
 "nbformat_minor": 2
}
