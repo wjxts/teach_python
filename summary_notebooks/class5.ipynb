{
 "cells": [
  {
   "cell_type": "markdown",
   "metadata": {},
   "source": [
    "堆, 建堆O(n)(自顶向下)\n",
    "拓扑排序, O(V+E), 任务依赖问题, 最短任务时间; 最长递增路径; 结合并行计算实现多依赖任务的并行计算(multi_dep_jobs.py)(之后再说)\n",
    "摩尔投票leetcode169, 229\n",
    "leetcode 剩余的10个中等题"
   ]
  },
  {
   "cell_type": "code",
   "execution_count": null,
   "metadata": {},
   "outputs": [],
   "source": [
    "import heapq\n",
    "q = [1, 3, 4, 5, 2, 0]\n",
    "heapq.heapify(q)\n",
    "heapq.heappop(q)"
   ]
  },
  {
   "cell_type": "code",
   "execution_count": 7,
   "metadata": {},
   "outputs": [
    {
     "data": {
      "text/plain": [
       "'0b10'"
      ]
     },
     "execution_count": 7,
     "metadata": {},
     "output_type": "execute_result"
    }
   ],
   "source": [
    "bin(10&(-10))"
   ]
  }
 ],
 "metadata": {
  "kernelspec": {
   "display_name": "py38",
   "language": "python",
   "name": "python3"
  },
  "language_info": {
   "codemirror_mode": {
    "name": "ipython",
    "version": 3
   },
   "file_extension": ".py",
   "mimetype": "text/x-python",
   "name": "python",
   "nbconvert_exporter": "python",
   "pygments_lexer": "ipython3",
   "version": "3.8.16"
  }
 },
 "nbformat": 4,
 "nbformat_minor": 2
}
