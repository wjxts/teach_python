{
 "cells": [
  {
   "cell_type": "markdown",
   "metadata": {},
   "source": [
    "堆, 建堆O(n)(自顶向下)\n",
    "拓扑排序, O(V+E), 任务依赖问题, 最短任务时间; 最长递增路径; 结合并行计算实现多依赖任务的并行计算(multi_dep_jobs.py)(之后再说)\n",
    "摩尔投票leetcode169, 229"
   ]
  },
  {
   "cell_type": "code",
   "execution_count": null,
   "metadata": {},
   "outputs": [],
   "source": []
  },
  {
   "cell_type": "code",
   "execution_count": null,
   "metadata": {},
   "outputs": [],
   "source": []
  }
 ],
 "metadata": {
  "kernelspec": {
   "display_name": "py38",
   "language": "python",
   "name": "python3"
  },
  "language_info": {
   "name": "python",
   "version": "3.8.16"
  }
 },
 "nbformat": 4,
 "nbformat_minor": 2
}
