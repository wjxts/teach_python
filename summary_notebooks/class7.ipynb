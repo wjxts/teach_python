{
 "cells": [
  {
   "cell_type": "markdown",
   "metadata": {},
   "source": [
    "pandas \n",
    "\n",
    "### 单个表的操作\n",
    "* 单列相关\n",
    "  * 单列的统计量 (count, mean, std, min, 25%, 50%, 75%, max)\n",
    "  * 单列的画图\n",
    "  * 单列的操作\n",
    "    * 变换相关 (apply, map, applymap)\n",
    "    * 计算相关 (diff, rank, pct_change)\n",
    "      * 数值变量 (diff, rank, pct_change, cumsum)\n",
    "      * 名义变量 (unique, value_counts)\n",
    "      * 分组计算统计量\n",
    "    * 类型转换相关 (tolist, to_dict, astype)\n",
    "    * 填充缺失值 (fillna, fillna(method='ffill'), fillna(method='bfill'))\n",
    "* 两列相关\n",
    "  * 计算相关性 df.corr()(col1.corr(col2)), df.cov()(col1.cov(col2))\n",
    "  * 直接进行运算 col1 + col2 之类的\n",
    "* 添加新列(直接df[new]=)，去除旧列(df.drop)，重命名列(rename)  注意inplace参数的使用\n",
    "\n",
    "* 分组操作 \n",
    "\n",
    "### 多个表的操作\n",
    "* 合并两个表 merge (用一个或多个键进行合并，情况有多种)\n",
    "* merge_asof (获取预先定义的时刻表的last pirce) # merged_df = pd.merge_asof(df_time_index, df, on='receive_time', direction='backward')\n",
    "  \n",
    "### 时间格式化操作\n",
    "pd.to_datatime() (TimeStamp对象)"
   ]
  },
  {
   "cell_type": "markdown",
   "metadata": {},
   "source": [
    "用diamond数据集来演示"
   ]
  },
  {
   "cell_type": "code",
   "execution_count": null,
   "metadata": {},
   "outputs": [],
   "source": []
  }
 ],
 "metadata": {
  "kernelspec": {
   "display_name": "py38",
   "language": "python",
   "name": "python3"
  },
  "language_info": {
   "name": "python",
   "version": "3.8.16"
  }
 },
 "nbformat": 4,
 "nbformat_minor": 2
}
