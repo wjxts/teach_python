{
 "cells": [
  {
   "cell_type": "markdown",
   "metadata": {},
   "source": [
    "KMP (算法+时间复杂度分析); leetcode 214 \n",
    "\n",
    "# 文件读写\n",
    "# 装饰器\n",
    "# parser"
   ]
  },
  {
   "cell_type": "code",
   "execution_count": 2,
   "metadata": {},
   "outputs": [],
   "source": [
    "file = \"test.txt\"\n",
    "with open(file, \"w\") as f:\n",
    "    f.write(\"Hello world!\")"
   ]
  },
  {
   "cell_type": "code",
   "execution_count": 3,
   "metadata": {},
   "outputs": [
    {
     "name": "stdout",
     "output_type": "stream",
     "text": [
      "Hello world!\n"
     ]
    }
   ],
   "source": [
    "with open(file, 'r') as f:\n",
    "    s = f.read()\n",
    "print(s)"
   ]
  },
  {
   "cell_type": "code",
   "execution_count": 5,
   "metadata": {},
   "outputs": [
    {
     "name": "stdout",
     "output_type": "stream",
     "text": [
      "['Hello world!\\n', 'wjx \\n', 'lsy']\n"
     ]
    }
   ],
   "source": [
    "with open(file, 'r') as f:\n",
    "    lines = f.readlines()\n",
    "print(lines)"
   ]
  },
  {
   "cell_type": "code",
   "execution_count": 8,
   "metadata": {},
   "outputs": [],
   "source": [
    "with open(file, 'a') as f:\n",
    "    f.write(\"Hello again!\")"
   ]
  },
  {
   "cell_type": "markdown",
   "metadata": {},
   "source": [
    "装饰器是个语法糖"
   ]
  },
  {
   "cell_type": "code",
   "execution_count": 13,
   "metadata": {},
   "outputs": [
    {
     "name": "stdout",
     "output_type": "stream",
     "text": [
      "Time taken: 0.52s\n"
     ]
    }
   ],
   "source": [
    "import time \n",
    "def timer(func):\n",
    "    def wrapper(*args, **kwargs):\n",
    "        start = time.time()\n",
    "        res = func(*args, **kwargs)\n",
    "        end = time.time()\n",
    "        print(f\"Time taken: {end - start:.2f}s\")\n",
    "        return res \n",
    "    return wrapper\n",
    "\n",
    "def timer_sleep(sleep_time):\n",
    "    def timer(func):\n",
    "        def wrapper(*args, **kwargs):\n",
    "            start = time.time()\n",
    "            time.sleep(sleep_time)\n",
    "            res = func(*args, **kwargs)\n",
    "            end = time.time()\n",
    "            print(f\"Time taken: {end - start:.2f}s\")\n",
    "            return res \n",
    "        return wrapper\n",
    "    return timer\n",
    "\n",
    "# @timer\n",
    "@timer_sleep(1)\n",
    "def f1(N):\n",
    "    for _ in range(N):\n",
    "        pass\n",
    "# f1 = timer(f1)\n",
    "@timer_sleep(0.5)\n",
    "def f2(N):\n",
    "    for _ in range(N):\n",
    "        pass\n",
    "\n",
    "# res = f1(1000000)\n",
    "res = f2(1000000)"
   ]
  },
  {
   "cell_type": "code",
   "execution_count": null,
   "metadata": {},
   "outputs": [],
   "source": []
  }
 ],
 "metadata": {
  "kernelspec": {
   "display_name": "py38",
   "language": "python",
   "name": "python3"
  },
  "language_info": {
   "codemirror_mode": {
    "name": "ipython",
    "version": 3
   },
   "file_extension": ".py",
   "mimetype": "text/x-python",
   "name": "python",
   "nbconvert_exporter": "python",
   "pygments_lexer": "ipython3",
   "version": "3.8.16"
  }
 },
 "nbformat": 4,
 "nbformat_minor": 2
}
