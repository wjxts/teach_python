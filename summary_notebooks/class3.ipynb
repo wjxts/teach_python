{
 "cells": [
  {
   "cell_type": "markdown",
   "metadata": {},
   "source": [
    "### 第三节课\n",
    "\n",
    "数据结构 (参考数据结构方法总结)\n",
    "* 列表 \n",
    "* 元组\n",
    "* 字典\n",
    "* Counter\n",
    "* 集合"
   ]
  },
  {
   "cell_type": "code",
   "execution_count": null,
   "metadata": {},
   "outputs": [
    {
     "name": "stdout",
     "output_type": "stream",
     "text": [
      "() (1, 2, 3) (1, 2, 3)\n"
     ]
    }
   ],
   "source": [
    "# a = tuple()\n",
    "a = ()\n",
    "b = tuple([1, 2, 3])\n",
    "c = (1, 2, 3)\n",
    "print(a, b, c)"
   ]
  },
  {
   "cell_type": "code",
   "execution_count": 5,
   "metadata": {},
   "outputs": [
    {
     "name": "stdout",
     "output_type": "stream",
     "text": [
      "{'a': 1, 'b': 2}\n"
     ]
    }
   ],
   "source": [
    "d = {'a': 1, 'b': 2}\n",
    "print(d)\n",
    "d.pop('c', None)"
   ]
  },
  {
   "cell_type": "code",
   "execution_count": 11,
   "metadata": {},
   "outputs": [
    {
     "name": "stdout",
     "output_type": "stream",
     "text": [
      "Counter({1: 4, 2: 3, 3: 2, 4: 1})\n",
      "Counter({1: 4, 2: 3, 3: 2, 4: -1})\n"
     ]
    },
    {
     "data": {
      "text/plain": [
       "[(1, 4), (2, 3)]"
      ]
     },
     "execution_count": 11,
     "metadata": {},
     "output_type": "execute_result"
    }
   ],
   "source": [
    "from collections import  Counter \n",
    "c = Counter([1, 2, 3, 4, 1, 2, 3, 1, 2, 1])\n",
    "print(c)\n",
    "c.subtract([4, 4])\n",
    "print(c)\n",
    "c.most_common(2)"
   ]
  },
  {
   "cell_type": "code",
   "execution_count": 16,
   "metadata": {},
   "outputs": [
    {
     "name": "stdout",
     "output_type": "stream",
     "text": [
      "[6, 1, 2, 3, 3, 0, 6, 1, 4, 5, 9, 2, 6, 0, 5, 8, 2, 9, 3, 4]\n",
      "Counter({6: 3, 2: 3, 3: 3, 1: 2, 0: 2, 4: 2, 5: 2, 9: 2, 8: 1})\n",
      "[8, 0, 0, 1, 1, 4, 4, 5, 5, 9, 9, 2, 2, 2, 3, 3, 3, 6, 6, 6]\n"
     ]
    }
   ],
   "source": [
    "import numpy as np\n",
    "np.random.seed(12)\n",
    "x = list(np.random.randint(0, 10, 20))\n",
    "print(x)\n",
    "c = Counter(x)\n",
    "print(c)\n",
    "y = sorted(x, key=lambda x: (c[x], x))\n",
    "print(y)"
   ]
  },
  {
   "cell_type": "code",
   "execution_count": 26,
   "metadata": {},
   "outputs": [
    {
     "name": "stdout",
     "output_type": "stream",
     "text": [
      "defaultdict(<class 'list'>, {'a': [1]})\n"
     ]
    }
   ],
   "source": [
    "from collections import defaultdict\n",
    "# d = defaultdict(lambda: 2)\n",
    "# d['a']\n",
    "# d = defaultdict(int)\n",
    "d = defaultdict(list)\n",
    "# d['a'] += 1\n",
    "d['a'].append(1)\n",
    "print(d)"
   ]
  },
  {
   "cell_type": "code",
   "execution_count": 22,
   "metadata": {},
   "outputs": [
    {
     "name": "stdout",
     "output_type": "stream",
     "text": [
      "{2, 3} {1, 2, 3, 4} {1}\n"
     ]
    }
   ],
   "source": [
    "s1 = {1, 2, 3}\n",
    "s2 = {2, 3, 4}\n",
    "print(s1 & s2, s1 | s2, s1-s2)"
   ]
  },
  {
   "cell_type": "code",
   "execution_count": null,
   "metadata": {},
   "outputs": [
    {
     "name": "stdout",
     "output_type": "stream",
     "text": [
      "deque([2, 3, 4, 5, 1])\n",
      "deque([3, 4, 5, 1])\n",
      "deque([3, 4, 5])\n"
     ]
    }
   ],
   "source": [
    "from collections import deque \n",
    "q = deque([3, 4, 5])\n",
    "q.append(1)\n",
    "q.appendleft(2)\n",
    "print(q)\n",
    "q.popleft()\n",
    "print(q)\n",
    "q.pop()\n",
    "print(q)"
   ]
  },
  {
   "cell_type": "code",
   "execution_count": 30,
   "metadata": {},
   "outputs": [
    {
     "name": "stdout",
     "output_type": "stream",
     "text": [
      "['apple', 'apple', 'apple', 'banana', 'banana', 'orange']\n"
     ]
    }
   ],
   "source": [
    "arr = [('apple', 3), ('banana', 2), ('orange', 1)]\n",
    "result = [a for a, n in arr for _ in range(n)]\n",
    "print(result) "
   ]
  },
  {
   "cell_type": "code",
   "execution_count": null,
   "metadata": {},
   "outputs": [],
   "source": [
    "import heapq \n",
    "# 下次讲解堆\n"
   ]
  }
 ],
 "metadata": {
  "kernelspec": {
   "display_name": "py38",
   "language": "python",
   "name": "python3"
  },
  "language_info": {
   "codemirror_mode": {
    "name": "ipython",
    "version": 3
   },
   "file_extension": ".py",
   "mimetype": "text/x-python",
   "name": "python",
   "nbconvert_exporter": "python",
   "pygments_lexer": "ipython3",
   "version": "3.8.16"
  }
 },
 "nbformat": 4,
 "nbformat_minor": 2
}
