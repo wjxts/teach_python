{
 "cells": [
  {
   "cell_type": "markdown",
   "metadata": {},
   "source": [
    "堆, 建堆O(n)(自顶向下)\n",
    "拓扑排序, O(V+E), 任务依赖问题, 最短任务时间; 最长递增路径; 结合并行计算实现多依赖任务的并行计算(multi_dep_jobs.py)"
   ]
  }
 ],
 "metadata": {
  "language_info": {
   "name": "python"
  }
 },
 "nbformat": 4,
 "nbformat_minor": 2
}
