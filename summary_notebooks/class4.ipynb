{
 "cells": [
  {
   "cell_type": "markdown",
   "metadata": {},
   "source": [
    "类是一个模版，封装了数据和方法，实例是类的具体实例化，是类的对象，实例化后的对象可以调用类的方法，访问类的属性。"
   ]
  },
  {
   "cell_type": "code",
   "execution_count": 26,
   "metadata": {},
   "outputs": [
    {
     "name": "stdout",
     "output_type": "stream",
     "text": [
      "True False True True\n",
      "True False\n",
      "Alex ws\n",
      "wz\n",
      "5 5\n",
      "1 3 4\n"
     ]
    }
   ],
   "source": [
    "class Guard:\n",
    "    def __init__(self):\n",
    "        self.name = \"abc\" \n",
    "    \n",
    "    def fun(self):\n",
    "        print(\"Hello!\")\n",
    "\n",
    "# a = Guard()\n",
    "# print(a.name)\n",
    "# a.fun()\n",
    "\n",
    "class Master:\n",
    "    num = 1\n",
    "    def __init__(self, name, power):\n",
    "        self.id = Master.num\n",
    "        Master.num += 1\n",
    "        self.name = name\n",
    "        self.power = power\n",
    "        self.__private = 1\n",
    "        self._protected = 2\n",
    "    \n",
    "    def play(self, other):\n",
    "        if self.power > other.power:\n",
    "            return \"win\"\n",
    "        elif self.power == other.power:\n",
    "            return \"draw\"\n",
    "        else:\n",
    "            return \"lose\"\n",
    "    \n",
    "    def get_private(self):\n",
    "        return self.__private\n",
    "    \n",
    "    @classmethod\n",
    "    def increase_id(cls):\n",
    "        cls.num += 1\n",
    "\n",
    "m1 = Master(name=\"Alex\", power=10)\n",
    "Master.increase_id()\n",
    "m2 = Master(name=\"Bob\", power=20)\n",
    "m3 = Master(name=\"Cindy\", power=30)\n",
    "print(hasattr(m1, \"name\"), hasattr(Master, \"name\"), hasattr(Master, \"play\"), hasattr(m1, 'num'))\n",
    "print(isinstance(m1, Master), isinstance(m1, Guard))\n",
    "print(getattr(m1, \"name\"), getattr(m1, \"name1\", 'ws'))\n",
    "setattr(m1, \"name2\", \"wz\")\n",
    "print(getattr(m1, \"name2\"))\n",
    "# res = m1.play(m2)\n",
    "# res = Master.play(m1, m2)\n",
    "# print(res)\n",
    "\n",
    "# print(m1.name)\n",
    "# print(m1._protected)\n",
    "# print(m1.__private) # error\n",
    "# 直接访问私有变量\n",
    "# print(m1._Master__private)\n",
    "# print(m1.get_private())\n",
    "\n",
    "print(Master.num, m1.num)\n",
    "print(m1.id, m2.id, m3.id)\n",
    "    "
   ]
  },
  {
   "cell_type": "code",
   "execution_count": 59,
   "metadata": {},
   "outputs": [
    {
     "name": "stdout",
     "output_type": "stream",
     "text": [
      "zzzz\n",
      "100\n",
      "1\n"
     ]
    }
   ],
   "source": [
    "class Magic:\n",
    "    def __init__(self):\n",
    "        self.name = 'zz'\n",
    "        self.age = 10 \n",
    "    \n",
    "    def fun(self):\n",
    "        print(\"Hello!\")\n",
    "        \n",
    "    # def __repr__(self):\n",
    "    #     return \"MAGIC\"\n",
    "    \n",
    "    def __str__(self):\n",
    "        return \"MAGA\"\n",
    "    \n",
    "    def __call__(self, a, b):\n",
    "        return a + b\n",
    "    \n",
    "    # 类实例的任何属性赋值操作都会自动调用该内置函数\n",
    "    # def __setattr__(self, name, value):\n",
    "    #     print(f\"setting {name} to {value}\")\n",
    "    #     self.__dict__[name] = value*2\n",
    "    \n",
    "    # def __getattribute__(self, name):\n",
    "    #     return \"hi\"\n",
    "    # def __getattr__(self, name):\n",
    "    #     return \"not exist\"\n",
    "    def __add__(self, other):\n",
    "        return self.name + other.name\n",
    "    \n",
    "    def __matmul__(self, other):\n",
    "        return self.age * other.age\n",
    "    \n",
    "    def __getitem__(self, key):\n",
    "        return self.__dict__[key]\n",
    "    \n",
    "    def __index__(self):\n",
    "        return 1 # 只能返回int\n",
    "    \n",
    "m = Magic()\n",
    "# print(m)\n",
    "# print(m)\n",
    "# print(str(m))\n",
    "# print(m(1, 2))\n",
    "# print(m.__dict__)\n",
    "# m.name = \"ws\"\n",
    "# print(m.name)\n",
    "# print(m.name, m.name1)\n",
    "m2 = Magic()\n",
    "print(m + m2)\n",
    "print(m@m2)\n",
    "# l = [1, 2]\n",
    "# print(l[m])\n",
    "print(int(m))\n",
    "# 魔法方法支持不同语法\n"
   ]
  },
  {
   "cell_type": "code",
   "execution_count": null,
   "metadata": {},
   "outputs": [
    {
     "name": "stdout",
     "output_type": "stream",
     "text": [
      "Time: 1.01s\n"
     ]
    }
   ],
   "source": [
    "from time import time, sleep\n",
    "class Timer:\n",
    "    def __enter__(self):\n",
    "        self.begin = time()\n",
    "        return self \n",
    "    def __exit__(self, exc_type, exc_val, exc_tb):\n",
    "        self.end = time()\n",
    "        print(f\"Time: {self.end - self.begin:.2f}s\")\n",
    "\n",
    "context = Timer()\n",
    "with context as t:\n",
    "    sleep(1)"
   ]
  },
  {
   "cell_type": "code",
   "execution_count": 71,
   "metadata": {},
   "outputs": [
    {
     "name": "stdout",
     "output_type": "stream",
     "text": [
      "DataCollector(name='ws', age=10, height=1.2, sex=0, children=[1, 2, 3])\n"
     ]
    }
   ],
   "source": [
    "from dataclasses import dataclass, field\n",
    "\n",
    "@dataclass\n",
    "class DataCollector:\n",
    "    name: str\n",
    "    age: int\n",
    "    height: float = 1.75\n",
    "    sex: int = 0# non-default argument should before default argument\n",
    "    children: list = field(default_factory=lambda: [1, 2, 3])\n",
    "\n",
    "dc = DataCollector(\"ws\", 10, height=1.2, sex=0)\n",
    "print(dc)\n",
    "    "
   ]
  },
  {
   "cell_type": "code",
   "execution_count": null,
   "metadata": {},
   "outputs": [
    {
     "name": "stdout",
     "output_type": "stream",
     "text": [
      "[1, 1, 2]\n"
     ]
    }
   ],
   "source": [
    "a = [1,2,3]\n",
    "a[1:3] = [1, 2]\n",
    "print(a)"
   ]
  }
 ],
 "metadata": {
  "kernelspec": {
   "display_name": "py38",
   "language": "python",
   "name": "python3"
  },
  "language_info": {
   "codemirror_mode": {
    "name": "ipython",
    "version": 3
   },
   "file_extension": ".py",
   "mimetype": "text/x-python",
   "name": "python",
   "nbconvert_exporter": "python",
   "pygments_lexer": "ipython3",
   "version": "3.8.16"
  }
 },
 "nbformat": 4,
 "nbformat_minor": 2
}
