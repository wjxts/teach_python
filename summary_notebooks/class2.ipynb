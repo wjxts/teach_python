{
 "cells": [
  {
   "cell_type": "markdown",
   "metadata": {},
   "source": [
    "### 第二节课\n",
    "\n",
    "顺序语句、判断语句、循环语句 \n",
    "\n",
    "函数、lambda表达式(方便、紧凑、简洁)"
   ]
  },
  {
   "cell_type": "code",
   "execution_count": 1,
   "metadata": {},
   "outputs": [
    {
     "name": "stdout",
     "output_type": "stream",
     "text": [
      "A\n"
     ]
    }
   ],
   "source": [
    "# python用缩进表示代码块\n",
    "if 1:\n",
    "    print(\"A\")\n",
    "else:\n",
    "    print('B')\n",
    "\n",
    "x = 10\n",
    "if x > 5:\n",
    "    y = x + 1\n",
    "    print(y)\n",
    "elif x>-5:\n",
    "    print(0)\n",
    "elif x>-10:\n",
    "    print(-1)\n",
    "else:\n",
    "    print(-2)"
   ]
  },
  {
   "cell_type": "code",
   "execution_count": 5,
   "metadata": {},
   "outputs": [
    {
     "name": "stdout",
     "output_type": "stream",
     "text": [
      "1\n",
      "4\n",
      "7\n",
      "10\n"
     ]
    }
   ],
   "source": [
    "for i in range(1, 11, 3):\n",
    "    print(i)\n",
    "# for s in ['a', 'b', 'c']:\n",
    "#     print(s)"
   ]
  },
  {
   "cell_type": "code",
   "execution_count": 6,
   "metadata": {},
   "outputs": [
    {
     "name": "stdout",
     "output_type": "stream",
     "text": [
      "0\n",
      "1\n",
      "2\n",
      "3\n",
      "4\n"
     ]
    }
   ],
   "source": [
    "x = 0 \n",
    "while x<5:\n",
    "    print(x)\n",
    "    x += 1"
   ]
  },
  {
   "cell_type": "code",
   "execution_count": 9,
   "metadata": {},
   "outputs": [
    {
     "name": "stdout",
     "output_type": "stream",
     "text": [
      "2\n",
      "1\n"
     ]
    }
   ],
   "source": [
    "# 使代码模块化，功能清晰，并且可以复用\n",
    "def func(a=0):\n",
    "    return a + 1\n",
    "b = func(1)\n",
    "print(2)\n",
    "print(func())\n",
    "\n",
    "# lambda表达式(方便、紧凑、简洁)\n",
    "func = lambda x: x+1\n",
    "add = lambda x, y: x+y"
   ]
  },
  {
   "cell_type": "code",
   "execution_count": null,
   "metadata": {},
   "outputs": [],
   "source": [
    "try:\n",
    "    print(1/0)\n",
    "except:\n",
    "    print('error')"
   ]
  },
  {
   "cell_type": "markdown",
   "metadata": {},
   "source": [
    "内置函数(sorted, min/max/sum, len)"
   ]
  },
  {
   "cell_type": "code",
   "execution_count": 11,
   "metadata": {},
   "outputs": [
    {
     "name": "stdout",
     "output_type": "stream",
     "text": [
      "[1, 3, 4, 6, 10]\n"
     ]
    },
    {
     "data": {
      "text/plain": [
       "['q', 'zx', 'rty', 'asd2']"
      ]
     },
     "execution_count": 11,
     "metadata": {},
     "output_type": "execute_result"
    }
   ],
   "source": [
    "x = [1, 3, 10, 6, 4]\n",
    "x = sorted(x)\n",
    "print(x)\n",
    "y = ['asd2', 'q', 'zx', 'rty']\n",
    "sorted(y, key=len)"
   ]
  },
  {
   "cell_type": "code",
   "execution_count": 12,
   "metadata": {},
   "outputs": [
    {
     "name": "stdout",
     "output_type": "stream",
     "text": [
      "-30 32 6 15 2.5\n"
     ]
    }
   ],
   "source": [
    "a = [2, -30, 23, -12, 0, 32]\n",
    "print(min(a), max(a), len(a), sum(a), sum(a)/len(a))"
   ]
  },
  {
   "cell_type": "markdown",
   "metadata": {},
   "source": [
    "✅ 20min"
   ]
  },
  {
   "cell_type": "code",
   "execution_count": null,
   "metadata": {},
   "outputs": [],
   "source": []
  }
 ],
 "metadata": {
  "kernelspec": {
   "display_name": "py38",
   "language": "python",
   "name": "python3"
  },
  "language_info": {
   "codemirror_mode": {
    "name": "ipython",
    "version": 3
   },
   "file_extension": ".py",
   "mimetype": "text/x-python",
   "name": "python",
   "nbconvert_exporter": "python",
   "pygments_lexer": "ipython3",
   "version": "3.8.16"
  }
 },
 "nbformat": 4,
 "nbformat_minor": 2
}
